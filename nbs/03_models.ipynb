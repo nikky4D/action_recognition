{
 "cells": [
  {
   "cell_type": "code",
   "execution_count": 1,
   "metadata": {},
   "outputs": [],
   "source": [
    "# default_exp models"
   ]
  },
  {
   "cell_type": "markdown",
   "metadata": {},
   "source": [
    "# Image sequence models\n",
    "> Models to predict the action class from a sequence of frames"
   ]
  },
  {
   "cell_type": "markdown",
   "metadata": {},
   "source": [
    "We will built a bunch of models to read the `ImageTuple` and output the corresponding `Category`."
   ]
  },
  {
   "cell_type": "code",
   "execution_count": 2,
   "metadata": {},
   "outputs": [],
   "source": [
    "#export\n",
    "from fastai.vision.all import *"
   ]
  },
  {
   "cell_type": "code",
   "execution_count": 3,
   "metadata": {},
   "outputs": [
    {
     "data": {
      "text/plain": [
       "'GeForce RTX 2070 SUPER'"
      ]
     },
     "execution_count": 3,
     "metadata": {},
     "output_type": "execute_result"
    }
   ],
   "source": [
    "torch.cuda.set_device(1)\n",
    "torch.cuda.get_device_name()"
   ]
  },
  {
   "cell_type": "markdown",
   "metadata": {},
   "source": [
    "## A resnet based Encoder\n",
    "> Extracting features of images to latent variable space"
   ]
  },
  {
   "cell_type": "markdown",
   "metadata": {},
   "source": [
    "Let's build a tensor representing a batch of images:\n",
    "- `(batch_size, channels, width, hight)`"
   ]
  },
  {
   "cell_type": "code",
   "execution_count": 4,
   "metadata": {},
   "outputs": [],
   "source": [
    "x = torch.rand(8, 3, 64, 64)"
   ]
  },
  {
   "cell_type": "markdown",
   "metadata": {},
   "source": [
    "We will build a basic Resnet based encoder:"
   ]
  },
  {
   "cell_type": "code",
   "execution_count": 5,
   "metadata": {},
   "outputs": [],
   "source": [
    "#export\n",
    "@delegates(create_cnn_model)\n",
    "class Encoder(Module):\n",
    "    def __init__(self, arch=resnet34, n_in=3, weights_file=None, head=True, **kwargs):\n",
    "        \"Encoder based on resnet, if head=False returns the feature map\"\n",
    "        model = create_cnn_model(arch, n_out=1, n_in=n_in, pretrained=True, **kwargs)\n",
    "        if weights_file is not None: load_model(weights_file, model, opt=None)\n",
    "        self.body = model[0]\n",
    "        if head: self.head = model[1]\n",
    "        else:    self.head = nn.Sequential(*(model[1][0:3]))\n",
    "\n",
    "    def forward(self, x):\n",
    "        return self.head(self.body(x))"
   ]
  },
  {
   "cell_type": "markdown",
   "metadata": {},
   "source": [
    "this encoder will reduce images to a latent dimension space:"
   ]
  },
  {
   "cell_type": "code",
   "execution_count": 6,
   "metadata": {},
   "outputs": [],
   "source": [
    "enc = Encoder(n_in=3, weights_file=None, head=False)"
   ]
  },
  {
   "cell_type": "code",
   "execution_count": 7,
   "metadata": {},
   "outputs": [
    {
     "data": {
      "text/plain": [
       "Sequential(\n",
       "  (0): AdaptiveConcatPool2d(\n",
       "    (ap): AdaptiveAvgPool2d(output_size=1)\n",
       "    (mp): AdaptiveMaxPool2d(output_size=1)\n",
       "  )\n",
       "  (1): Flatten(full=False)\n",
       "  (2): BatchNorm1d(1024, eps=1e-05, momentum=0.1, affine=True, track_running_stats=True)\n",
       ")"
      ]
     },
     "execution_count": 7,
     "metadata": {},
     "output_type": "execute_result"
    }
   ],
   "source": [
    "enc.head"
   ]
  },
  {
   "cell_type": "markdown",
   "metadata": {},
   "source": [
    "In this case, 1024"
   ]
  },
  {
   "cell_type": "code",
   "execution_count": 8,
   "metadata": {},
   "outputs": [
    {
     "data": {
      "text/plain": [
       "torch.Size([8, 1024])"
      ]
     },
     "execution_count": 8,
     "metadata": {},
     "output_type": "execute_result"
    }
   ],
   "source": [
    "encoded_var = enc(x)\n",
    "encoded_var.shape"
   ]
  },
  {
   "cell_type": "code",
   "execution_count": 9,
   "metadata": {},
   "outputs": [],
   "source": [
    "test_eq(encoded_var.shape, [8,1024])"
   ]
  },
  {
   "cell_type": "markdown",
   "metadata": {},
   "source": [
    "## Simple Model\n",
    "> A very basic CNN model"
   ]
  },
  {
   "cell_type": "markdown",
   "metadata": {},
   "source": [
    "This network is just using an old resnet and expanding the sequence dimesion on the batch dim. It is not optimal."
   ]
  },
  {
   "cell_type": "code",
   "execution_count": 10,
   "metadata": {},
   "outputs": [],
   "source": [
    "#export\n",
    "class SimpleModel(Module):\n",
    "    \"A simple CNN model\"\n",
    "    def __init__(self, arch=resnet34, weights_file=None, num_classes=30, seq_len=40, debug=False):\n",
    "        \"Create a simple arch based model\"\n",
    "        model = Encoder(arch, 3, weights_file, head=False)\n",
    "        nf = num_features_model(nn.Sequential(*model.body.children())) * 2\n",
    "        self.encoder = model\n",
    "        self.head = nn.Sequential(LinBnDrop(nf,  nf//2, p=0.2, act=nn.ReLU()),\n",
    "                                  LinBnDrop(nf//2, num_classes, p=0.05))\n",
    "        self.attention_layer = nn.Linear(nf, 1)\n",
    "        self.debug = debug\n",
    "\n",
    "    def forward(self, x):\n",
    "        if self.debug:  print(f' input len:   {len(x), x[0].shape}')\n",
    "        x = torch.stack(x, dim=1)\n",
    "        if self.debug:  print(f' after stack:   {x.shape}')\n",
    "        batch_size, seq_length, c, h, w = x.shape\n",
    "        x = x.view(batch_size * seq_length, c, h, w)\n",
    "        x = self.encoder(x)\n",
    "        x = x.view(batch_size, seq_length, -1)\n",
    "        if self.debug:  print(f' encoded shape: {x.shape}')\n",
    "        attention_w = F.softmax(self.attention_layer(x).squeeze(-1), dim=-1)\n",
    "        x = torch.sum(attention_w.unsqueeze(-1) * x, dim=1)\n",
    "        if self.debug:  print(f' after attention shape: {x.shape}')\n",
    "        x = self.head(x)\n",
    "        return x"
   ]
  },
  {
   "cell_type": "markdown",
   "metadata": {},
   "source": [
    "A splitter function to train separetely the parameers from the encoder and the head, this is a needed argument for the `Learner` to be able to call `Learner.freeze()`."
   ]
  },
  {
   "cell_type": "code",
   "execution_count": 11,
   "metadata": {},
   "outputs": [],
   "source": [
    "#export\n",
    "def simple_splitter(model):\n",
    "    return [params(model.encoder), params(model.attention_layer)+ params(model.head)]"
   ]
  },
  {
   "cell_type": "markdown",
   "metadata": {},
   "source": [
    "A sequence of 10 images:"
   ]
  },
  {
   "cell_type": "code",
   "execution_count": 12,
   "metadata": {},
   "outputs": [],
   "source": [
    "#bs, seq_len, ch, w, h\n",
    "inp = [torch.rand(64, 3, 64, 64) for _ in range(10)]"
   ]
  },
  {
   "cell_type": "code",
   "execution_count": 13,
   "metadata": {},
   "outputs": [
    {
     "name": "stdout",
     "output_type": "stream",
     "text": [
      " input len:   (10, torch.Size([64, 3, 64, 64]))\n",
      " after stack:   torch.Size([64, 10, 3, 64, 64])\n",
      " encoded shape: torch.Size([64, 10, 1024])\n",
      " after attention shape: torch.Size([64, 1024])\n"
     ]
    }
   ],
   "source": [
    "sm = SimpleModel(debug=True, seq_len=10)\n",
    "out = sm(inp)\n",
    "test_eq(out.shape, [64, 30])"
   ]
  },
  {
   "cell_type": "markdown",
   "metadata": {},
   "source": [
    "## ConvLSTM\n",
    "> An LSTM encoded image model"
   ]
  },
  {
   "cell_type": "markdown",
   "metadata": {},
   "source": [
    "First the LSTM wrapper, with the `reset` method to erase hidden state before each epoch."
   ]
  },
  {
   "cell_type": "code",
   "execution_count": 14,
   "metadata": {},
   "outputs": [],
   "source": [
    "#export\n",
    "class LSTM(Module):\n",
    "    def __init__(self, input_dim, n_hidden, n_layers, bidirectional=False, p=0.5):\n",
    "        self.lstm = nn.LSTM(input_dim, n_hidden, n_layers, batch_first=True, bidirectional=bidirectional)\n",
    "        self.drop = nn.Dropout(p)\n",
    "        self.h = None\n",
    "\n",
    "    def reset(self):\n",
    "        self.h = None\n",
    "\n",
    "    def forward(self, x):\n",
    "        if (self.h is not None) and (x.shape[0] != self.h[0].shape[1]): #dealing with last batch on valid\n",
    "#             self.h = [h_[:, :x.shape[0], :] for h_ in self.h]\n",
    "            self.h = None\n",
    "        raw, h = self.lstm(x, self.h)\n",
    "        out = self.drop(raw)\n",
    "        self.h = [h_.detach() for h_ in h]\n",
    "        return out, h"
   ]
  },
  {
   "cell_type": "markdown",
   "metadata": {},
   "source": [
    "We will take as input_size the output of the encoder, so the `latent_dimesion`, the `num_layers` is how many `nn.LSTMCell` are stacked and hidden dim is the same as before.\n",
    "\n",
    "Let's build a 16 layers LSTM stack:"
   ]
  },
  {
   "cell_type": "code",
   "execution_count": 15,
   "metadata": {},
   "outputs": [],
   "source": [
    "lstm = LSTM(512, 512, 1, bidirectional=False)"
   ]
  },
  {
   "cell_type": "code",
   "execution_count": 16,
   "metadata": {},
   "outputs": [],
   "source": [
    "# bs, input_dim, hidden_dim\n",
    "y = torch.rand(32, 10,  512)"
   ]
  },
  {
   "cell_type": "markdown",
   "metadata": {},
   "source": [
    "We get the same input, encoded on the hidden_dim"
   ]
  },
  {
   "cell_type": "code",
   "execution_count": 17,
   "metadata": {},
   "outputs": [
    {
     "data": {
      "text/plain": [
       "(torch.Size([32, 10, 512]), torch.Size([1, 32, 512]), torch.Size([1, 32, 512]))"
      ]
     },
     "execution_count": 17,
     "metadata": {},
     "output_type": "execute_result"
    }
   ],
   "source": [
    "out, (h,c) = lstm(y)\n",
    "out.shape, h.shape, c.shape"
   ]
  },
  {
   "cell_type": "markdown",
   "metadata": {},
   "source": [
    "It can deal with different batch sizes now:"
   ]
  },
  {
   "cell_type": "code",
   "execution_count": 18,
   "metadata": {},
   "outputs": [
    {
     "data": {
      "text/plain": [
       "(torch.Size([16, 10, 512]), torch.Size([1, 16, 512]), torch.Size([1, 16, 512]))"
      ]
     },
     "execution_count": 18,
     "metadata": {},
     "output_type": "execute_result"
    }
   ],
   "source": [
    "out, (h,c) = lstm(torch.rand(16,10,512))\n",
    "out.shape, h.shape, c.shape"
   ]
  },
  {
   "cell_type": "code",
   "execution_count": 19,
   "metadata": {},
   "outputs": [],
   "source": [
    "lstm = LSTM(512, 512, 3, bidirectional=True)"
   ]
  },
  {
   "cell_type": "code",
   "execution_count": 20,
   "metadata": {},
   "outputs": [
    {
     "data": {
      "text/plain": [
       "(torch.Size([16, 10, 1024]),\n",
       " torch.Size([6, 16, 512]),\n",
       " torch.Size([6, 16, 512]))"
      ]
     },
     "execution_count": 20,
     "metadata": {},
     "output_type": "execute_result"
    }
   ],
   "source": [
    "out, (h,c) = lstm(torch.rand(16,10,512))\n",
    "out.shape,  h.shape, c.shape"
   ]
  },
  {
   "cell_type": "code",
   "execution_count": 21,
   "metadata": {},
   "outputs": [],
   "source": [
    "#Export\n",
    "class ConvLSTM(Module):\n",
    "    def __init__(self, arch=resnet34, weights_file=None, num_classes=30, lstm_layers=1, hidden_dim=1024, \n",
    "                 bidirectional=True, attention=True, debug=False):\n",
    "        model = Encoder(arch, 3, weights_file, head=False)\n",
    "        nf = num_features_model(nn.Sequential(*model.body.children())) * 2\n",
    "        self.encoder = model\n",
    "        self.lstm = LSTM(nf, hidden_dim, lstm_layers, bidirectional)\n",
    "        self.attention = attention\n",
    "        self.attention_layer = nn.Linear(2 * hidden_dim if bidirectional else hidden_dim, 1)\n",
    "        self.head = nn.Sequential(\n",
    "            LinBnDrop( (lstm_layers if not attention else 1)*(2 * hidden_dim if bidirectional else hidden_dim), \n",
    "                      hidden_dim, p=0.2, act=nn.ReLU()),\n",
    "            nn.Linear(hidden_dim, num_classes),\n",
    "        )\n",
    "        self.debug = debug\n",
    "        \n",
    "    def forward(self, x):\n",
    "        x = torch.stack(x, dim=1)\n",
    "        if self.debug:  print(f' after stack:   {x.shape}')\n",
    "        batch_size, seq_length, c, h, w = x.shape\n",
    "        x = x.view(batch_size * seq_length, c, h, w)\n",
    "        x = self.encoder(x)\n",
    "        if self.debug:  print(f' after encode:   {x.shape}')\n",
    "        x = x.view(batch_size, seq_length, -1)\n",
    "        if self.debug:  print(f' before lstm:   {x.shape}')\n",
    "        x, (h,c) = self.lstm(x)\n",
    "        if self.debug:  print(f' after lstm:   {x.shape}')\n",
    "        if self.attention:\n",
    "            attention_w = F.softmax(self.attention_layer(x).squeeze(-1), dim=-1)\n",
    "            if self.debug: print(f' attention_w: {attention_w.shape}')\n",
    "            out = torch.sum(attention_w.unsqueeze(-1) * x, dim=1)\n",
    "            if self.debug: print(f' after attention: {out.shape}')\n",
    "        else:\n",
    "            if self.debug: print(f' hidden state: {h.shape}')\n",
    "            out = h.permute(1,0,2).flatten(1)\n",
    "            if self.debug: print(f' hidden state flat: {out.shape}')\n",
    "        return self.head(out)\n",
    "    \n",
    "    def reset(self): self.lstm.reset()"
   ]
  },
  {
   "cell_type": "code",
   "execution_count": 22,
   "metadata": {},
   "outputs": [],
   "source": [
    "#export\n",
    "def convlstm_splitter(model):\n",
    "    return [params(model.encoder), params(model.lstm) + params(model.attention_layer) + params(model.head)]"
   ]
  },
  {
   "cell_type": "code",
   "execution_count": 23,
   "metadata": {},
   "outputs": [],
   "source": [
    "#bs, seq_len, ch, w, h\n",
    "inp = [torch.rand(32, 3, 64, 64) for _ in range(10)]"
   ]
  },
  {
   "cell_type": "code",
   "execution_count": 24,
   "metadata": {},
   "outputs": [
    {
     "name": "stdout",
     "output_type": "stream",
     "text": [
      " after stack:   torch.Size([32, 10, 3, 64, 64])\n",
      " after encode:   torch.Size([320, 1024])\n",
      " before lstm:   torch.Size([32, 10, 1024])\n",
      " after lstm:   torch.Size([32, 10, 1024])\n",
      " hidden state: torch.Size([2, 32, 1024])\n",
      " hidden state flat: torch.Size([32, 2048])\n"
     ]
    }
   ],
   "source": [
    "clstm = ConvLSTM(attention=False, bidirectional=False, lstm_layers=2, debug=True)\n",
    "test_eq(clstm(inp).shape, [32, 30])"
   ]
  },
  {
   "cell_type": "code",
   "execution_count": 25,
   "metadata": {},
   "outputs": [
    {
     "name": "stdout",
     "output_type": "stream",
     "text": [
      " after stack:   torch.Size([32, 10, 3, 64, 64])\n",
      " after encode:   torch.Size([320, 1024])\n",
      " before lstm:   torch.Size([32, 10, 1024])\n",
      " after lstm:   torch.Size([32, 10, 2048])\n",
      " attention_w: torch.Size([32, 10])\n",
      " after attention: torch.Size([32, 2048])\n"
     ]
    }
   ],
   "source": [
    "clstm = ConvLSTM(lstm_layers=3, debug=True)\n",
    "test_eq(clstm(inp).shape, [32, 30])"
   ]
  },
  {
   "cell_type": "code",
   "execution_count": 26,
   "metadata": {},
   "outputs": [
    {
     "name": "stdout",
     "output_type": "stream",
     "text": [
      " after stack:   torch.Size([32, 10, 3, 64, 64])\n",
      " after encode:   torch.Size([320, 1024])\n",
      " before lstm:   torch.Size([32, 10, 1024])\n",
      " after lstm:   torch.Size([32, 10, 2048])\n",
      " attention_w: torch.Size([32, 10])\n",
      " after attention: torch.Size([32, 2048])\n"
     ]
    }
   ],
   "source": [
    "clstm = ConvLSTM(lstm_layers=1, debug=True)\n",
    "test_eq(clstm(inp).shape, [32, 30])"
   ]
  },
  {
   "cell_type": "markdown",
   "metadata": {},
   "source": [
    "## Transformer model\n",
    "> inspired from DETR : https://colab.research.google.com/github/facebookresearch/detr/blob/colab/notebooks/detr_demo.ipynb#scrollTo=h91rsIPl7tVl"
   ]
  },
  {
   "cell_type": "code",
   "execution_count": 27,
   "metadata": {},
   "outputs": [],
   "source": [
    "encoder_layer = nn.TransformerEncoderLayer(d_model=512, nhead=8)\n",
    "transformer_encoder = nn.TransformerEncoder(encoder_layer, num_layers=6)"
   ]
  },
  {
   "cell_type": "code",
   "execution_count": 28,
   "metadata": {},
   "outputs": [
    {
     "data": {
      "text/plain": [
       "torch.Size([10, 32, 512])"
      ]
     },
     "execution_count": 28,
     "metadata": {},
     "output_type": "execute_result"
    }
   ],
   "source": [
    "transformer_encoder(torch.rand(10, 32, 512)).shape"
   ]
  },
  {
   "cell_type": "code",
   "execution_count": 29,
   "metadata": {},
   "outputs": [],
   "source": [
    "#export\n",
    "class DETR(Module):\n",
    "    def __init__(self,  arch=resnet34, n_in=3, n=400, n_classes=30, hidden_dim=256, nheads=4, num_encoder_layers=4, \n",
    "                 num_decoder_layers=4, debug=False):\n",
    "        self.debug = debug\n",
    "        \n",
    "        #the image encoder\n",
    "        self.backbone = Encoder(arch, n_in=n_in, head=False).body\n",
    "\n",
    "        # create conversion layer\n",
    "        self.conv = nn.Conv2d(512, hidden_dim, 1)\n",
    "\n",
    "        # create a default PyTorch transformer\n",
    "        self.transformer = nn.Transformer(\n",
    "            hidden_dim, nheads, num_encoder_layers, num_decoder_layers)\n",
    "        \n",
    "        # output positional encodings (object queries)\n",
    "        self.query_pos = nn.Parameter(torch.rand(1, hidden_dim))\n",
    "\n",
    "        # spatial positional encodings\n",
    "        # note that in baseline DETR we use sine positional encodings\n",
    "        self.pos = nn.Parameter(torch.rand(n, hidden_dim))\n",
    "#         self.row_embed = nn.Parameter(torch.rand(50, hidden_dim // 4))\n",
    "#         self.col_embed = nn.Parameter(torch.rand(50, hidden_dim // 4))\n",
    "#         self.time_embed =nn.Parameter(torch.rand(50, hidden_dim // 2))\n",
    "        \n",
    "        #head\n",
    "        self.lin = nn.Linear(hidden_dim, n_classes)\n",
    "        \n",
    "    def forward(self, x):\n",
    "        x = torch.stack(x, dim=1)\n",
    "        if self.debug:  print(f' after stack:   {x.shape}')\n",
    "        batch_size, seq_length, c, h, w = x.shape\n",
    "        x = x.view(batch_size * seq_length, c, h, w)\n",
    "        # propagate inputs through ResNet up to avg-pool layer\n",
    "        x = self.backbone(x)\n",
    "        if self.debug: print(f'backbone: {x.shape}')\n",
    "            \n",
    "        # convert from the latent dim to 256 feature planes for the transformer\n",
    "        h = self.conv(x)\n",
    "        if self.debug: print(f'h: {h.shape}')\n",
    "        h = h.view(batch_size, seq_length, *h.shape[1:])\n",
    "        if self.debug: print(f'h: {h.shape}')\n",
    "\n",
    "        # construct positional encodings\n",
    "        H, W = h.shape[-2:]\n",
    "        T = h.shape[1]\n",
    "        if self.debug: print(f'T,H,W: {T}, {H}, {W}')\n",
    "        \n",
    "#         pos = torch.cat([\n",
    "#             self.time_embed[:T].view(T,1,1,-1).repeat(1, H, W, 1),\n",
    "#             self.col_embed[:W].view(1,1,W,-1).repeat(T, H, 1, 1),\n",
    "#             self.row_embed[:H].view(1,H,1,-1).repeat(T, 1, W, 1),\n",
    "#         ], dim=-1).flatten(0, 2).unsqueeze(1)\n",
    "        pos = self.pos[0:T*W*H].unsqueeze(1)\n",
    "        if self.debug: print(f'pos: {pos.shape}')\n",
    "        \n",
    "        # propagate through the transformer\n",
    "        tf_input = pos + 0.1 * h.permute(0,2,1,3,4).flatten(2).permute(2,0,1)\n",
    "        if self.debug: print(f'tf_input: {tf_input.shape}')\n",
    "        h = self.transformer(tf_input,\n",
    "                             self.query_pos.unsqueeze(1))\n",
    "        if self.debug: print(f'tf_out: {h.shape}')\n",
    "        return self.lin(h).squeeze(1)      "
   ]
  },
  {
   "cell_type": "code",
   "execution_count": 30,
   "metadata": {},
   "outputs": [],
   "source": [
    "#export\n",
    "# def detr_split(m):\n",
    "#     return [params(m.backbone), \n",
    "#             params(m.conv)+params(m.transformer)+[m.query_pos]+[m.col_embed]+[m.row_embed]+[m.time_embed]+params(m.lin)]\n",
    "def detr_split(m):\n",
    "    return [params(m.backbone), \n",
    "            params(m.conv)+params(m.transformer)+[m.query_pos]+[m.pos]+params(m.lin)]"
   ]
  },
  {
   "cell_type": "code",
   "execution_count": 31,
   "metadata": {},
   "outputs": [],
   "source": [
    "detr = DETR(debug=True)"
   ]
  },
  {
   "cell_type": "code",
   "execution_count": 32,
   "metadata": {},
   "outputs": [],
   "source": [
    "detr_split(detr);"
   ]
  },
  {
   "cell_type": "code",
   "execution_count": 33,
   "metadata": {},
   "outputs": [
    {
     "name": "stdout",
     "output_type": "stream",
     "text": [
      " after stack:   torch.Size([1, 10, 3, 64, 64])\n",
      "backbone: torch.Size([10, 512, 2, 2])\n",
      "h: torch.Size([10, 256, 2, 2])\n",
      "h: torch.Size([1, 10, 256, 2, 2])\n",
      "T,H,W: 10, 2, 2\n",
      "pos: torch.Size([40, 1, 256])\n",
      "tf_input: torch.Size([40, 1, 256])\n",
      "tf_out: torch.Size([1, 1, 256])\n"
     ]
    },
    {
     "data": {
      "text/plain": [
       "torch.Size([1, 30])"
      ]
     },
     "execution_count": 33,
     "metadata": {},
     "output_type": "execute_result"
    }
   ],
   "source": [
    "detr([torch.rand(1, 3, 64, 64) for _ in range(10)]).shape"
   ]
  },
  {
   "cell_type": "markdown",
   "metadata": {},
   "source": [
    "## Simple transformer"
   ]
  },
  {
   "cell_type": "code",
   "execution_count": 34,
   "metadata": {},
   "outputs": [],
   "source": [
    "class PositionalEncoding(Module):\n",
    "    r\"\"\"Inject some information about the relative or absolute position of the tokens\n",
    "        in the sequence. The positional encodings have the same dimension as\n",
    "        the embeddings, so that the two can be summed. Here, we use sine and cosine\n",
    "        functions of different frequencies.\n",
    "    .. math::\n",
    "        \\text{PosEncoder}(pos, 2i) = sin(pos/10000^(2i/d_model))\n",
    "        \\text{PosEncoder}(pos, 2i+1) = cos(pos/10000^(2i/d_model))\n",
    "        \\text{where pos is the word position and i is the embed idx)\n",
    "    Args:\n",
    "        d_model: the embed dim (required).\n",
    "        dropout: the dropout value (default=0.1).\n",
    "        max_len: the max. length of the incoming sequence (default=5000).\n",
    "    Examples:\n",
    "        >>> pos_encoder = PositionalEncoding(d_model)\n",
    "    \"\"\"\n",
    "\n",
    "    def __init__(self, d_model, dropout=0.1, max_len=5000):\n",
    "        self.dropout = nn.Dropout(p=dropout)\n",
    "\n",
    "        pe = torch.zeros(max_len, d_model)\n",
    "        position = torch.arange(0, max_len, dtype=torch.float).unsqueeze(1)\n",
    "        div_term = torch.exp(torch.arange(0, d_model, 2).float() * (-math.log(10000.0) / d_model))\n",
    "        pe[:, 0::2] = torch.sin(position * div_term)\n",
    "        pe[:, 1::2] = torch.cos(position * div_term)\n",
    "        pe = pe.unsqueeze(0).transpose(0, 1)\n",
    "        self.register_buffer('pe', pe)\n",
    "\n",
    "    def forward(self, x):\n",
    "        r\"\"\"Inputs of forward function\n",
    "        Args:\n",
    "            x: the sequence fed to the positional encoder model (required).\n",
    "        Shape:\n",
    "            x: [sequence length, batch size, embed dim]\n",
    "            output: [sequence length, batch size, embed dim]\n",
    "        Examples:\n",
    "            >>> output = pos_encoder(x)\n",
    "        \"\"\"\n",
    "\n",
    "        x = x + self.pe[:x.size(0), :]\n",
    "        return self.dropout(x)"
   ]
  },
  {
   "cell_type": "code",
   "execution_count": 35,
   "metadata": {},
   "outputs": [],
   "source": [
    "#export\n",
    "class TransformerModel(Module):\n",
    "    def __init__(self,  arch=resnet34, n_in=3, n=400, n_classes=30, hidden_dim=256, nheads=4, num_encoder_layers=4, \n",
    "                 num_decoder_layers=4, debug=False):\n",
    "        self.debug = debug\n",
    "        \n",
    "        #the image encoder\n",
    "        self.backbone = Encoder(arch, n_in=n_in, head=False).body\n",
    "\n",
    "        # create conversion layer\n",
    "        self.conv = nn.Conv2d(512, hidden_dim, 1)\n",
    "        \n",
    "        #Encoder of the Transformer\n",
    "        encoder_layers = nn.TransformerEncoderLayer(hidden_dim, nheads, hidden_dim)\n",
    "        self.transformer = nn.TransformerEncoder(encoder_layers, num_encoder_layers)\n",
    "        \n",
    "        # spatial positional encodings\n",
    "        # note that in baseline DETR we use sine positional encodings\n",
    "        self.pos = PositionalEncoding(hidden_dim)\n",
    "        \n",
    "        #head\n",
    "        self.lin = nn.Linear(hidden_dim, n_classes)\n",
    "        \n",
    "    def forward(self, x):\n",
    "        x = torch.stack(x, dim=1)\n",
    "        if self.debug:  print(f' after stack:   {x.shape}')\n",
    "        batch_size, seq_length, c, h, w = x.shape\n",
    "        x = x.view(batch_size * seq_length, c, h, w)\n",
    "        # propagate inputs through ResNet up to avg-pool layer\n",
    "        x = self.backbone(x)\n",
    "        if self.debug: print(f'backbone: {x.shape}')\n",
    "            \n",
    "        # convert from the latent dim to 256 feature planes for the transformer\n",
    "        h = self.conv(x)\n",
    "        if self.debug: print(f'h: {h.shape}')\n",
    "        h = h.view(batch_size, seq_length, *h.shape[1:])\n",
    "        if self.debug: print(f'h: {h.shape}')\n",
    "\n",
    "        # construct positional encodings\n",
    "        H, W = h.shape[-2:]\n",
    "        T = h.shape[1]\n",
    "        if self.debug: print(f'T,H,W: {T}, {H}, {W}')\n",
    "        \n",
    "#         pos = torch.cat([\n",
    "#             self.time_embed[:T].view(T,1,1,-1).repeat(1, H, W, 1),\n",
    "#             self.col_embed[:W].view(1,1,W,-1).repeat(T, H, 1, 1),\n",
    "#             self.row_embed[:H].view(1,H,1,-1).repeat(T, 1, W, 1),\n",
    "#         ], dim=-1).flatten(0, 2).unsqueeze(1)\n",
    "#         pos = self.pos[0:T*W*H].unsqueeze(1)\n",
    "#         if self.debug: print(f'pos: {pos.shape}')\n",
    "        \n",
    "        # propagate through the transformer\n",
    "        tf_input = self.pos(h.permute(0,2,1,3,4).flatten(2).permute(2,0,1))\n",
    "        if self.debug: print(f'tf_input: {tf_input.shape}')\n",
    "        h = self.transformer(tf_input)\n",
    "        if self.debug: print(f'tf_out: {h.shape}')\n",
    "        return self.lin(h).squeeze(1)      "
   ]
  },
  {
   "cell_type": "code",
   "execution_count": 36,
   "metadata": {},
   "outputs": [],
   "source": [
    "tf = TransformerModel(debug=True)"
   ]
  },
  {
   "cell_type": "code",
   "execution_count": 37,
   "metadata": {},
   "outputs": [
    {
     "name": "stdout",
     "output_type": "stream",
     "text": [
      " after stack:   torch.Size([1, 10, 3, 64, 64])\n",
      "backbone: torch.Size([10, 512, 2, 2])\n",
      "h: torch.Size([10, 256, 2, 2])\n",
      "h: torch.Size([1, 10, 256, 2, 2])\n",
      "T,H,W: 10, 2, 2\n",
      "tf_input: torch.Size([40, 1, 256])\n",
      "tf_out: torch.Size([40, 1, 256])\n"
     ]
    },
    {
     "data": {
      "text/plain": [
       "torch.Size([40, 30])"
      ]
     },
     "execution_count": 37,
     "metadata": {},
     "output_type": "execute_result"
    }
   ],
   "source": [
    "tf([torch.rand(1, 3, 64, 64) for _ in range(10)]).shape"
   ]
  },
  {
   "cell_type": "markdown",
   "metadata": {},
   "source": [
    "# Export -"
   ]
  },
  {
   "cell_type": "code",
   "execution_count": 38,
   "metadata": {},
   "outputs": [
    {
     "name": "stdout",
     "output_type": "stream",
     "text": [
      "Converted 00_core.ipynb.\n",
      "Converted 01_utils.ipynb.\n",
      "Converted 03_models.ipynb.\n",
      "Converted 04_train_baseline.ipynb.\n",
      "Converted 04_train_convlstm.ipynb.\n",
      "Converted 04_train_convlstm_split0.ipynb.\n",
      "Converted 05_train_transformer.ipynb.\n",
      "Converted index.ipynb.\n"
     ]
    }
   ],
   "source": [
    "###### hide\n",
    "from nbdev.export import *\n",
    "notebook2script()"
   ]
  },
  {
   "cell_type": "code",
   "execution_count": null,
   "metadata": {},
   "outputs": [],
   "source": []
  }
 ],
 "metadata": {
  "kernelspec": {
   "display_name": "Python 3",
   "language": "python",
   "name": "python3"
  },
  "language_info": {
   "codemirror_mode": {
    "name": "ipython",
    "version": 3
   },
   "file_extension": ".py",
   "mimetype": "text/x-python",
   "name": "python",
   "nbconvert_exporter": "python",
   "pygments_lexer": "ipython3",
   "version": "3.8.5"
  }
 },
 "nbformat": 4,
 "nbformat_minor": 4
}
