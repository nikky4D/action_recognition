{
 "cells": [
  {
   "cell_type": "code",
   "execution_count": null,
   "metadata": {},
   "outputs": [],
   "source": [
    "# default_exp models"
   ]
  },
  {
   "cell_type": "markdown",
   "metadata": {},
   "source": [
    "# Image sequence models\n",
    "> Models to predict the action class from a sequence of frames"
   ]
  },
  {
   "cell_type": "markdown",
   "metadata": {},
   "source": [
    "We will built a bunch of models to read the `ImageTuple` and output the corresponding `Category`."
   ]
  },
  {
   "cell_type": "code",
   "execution_count": null,
   "metadata": {},
   "outputs": [],
   "source": [
    "from fastai2.vision.all import *"
   ]
  },
  {
   "cell_type": "markdown",
   "metadata": {},
   "source": [
    "## A resnet based Encoder\n",
    "> Extracting features of images to latent variable space"
   ]
  },
  {
   "cell_type": "markdown",
   "metadata": {},
   "source": [
    "Let's build a tensor representing a batch of images:\n",
    "- `(batch_size, channels, width, hight)`"
   ]
  },
  {
   "cell_type": "code",
   "execution_count": null,
   "metadata": {},
   "outputs": [],
   "source": [
    "x = torch.rand(8, 3, 64, 64)"
   ]
  },
  {
   "cell_type": "markdown",
   "metadata": {},
   "source": [
    "We will build a basic Resnet based encoder:"
   ]
  },
  {
   "cell_type": "code",
   "execution_count": null,
   "metadata": {},
   "outputs": [],
   "source": [
    "#export\n",
    "@delegates(create_cnn_model)\n",
    "class Encoder(Module):\n",
    "    def __init__(self, arch=resnet34, n_in=3, weights_file=None, head=True, **kwargs):\n",
    "        \"Encoder based on resnet, if head=False returns the feature map\"\n",
    "        model = create_cnn_model(arch, n_out=1, n_in=n_in, pretrained=True, **kwargs)\n",
    "        if weights_file is not None: load_model(weights_file, model, opt=None)\n",
    "        self.body = model[0]\n",
    "        if head: self.head = model[1]\n",
    "        else:    self.head = nn.Sequential(*(model[1][0:3]))\n",
    "\n",
    "    def forward(self, x):\n",
    "        return self.head(self.body(x))"
   ]
  },
  {
   "cell_type": "markdown",
   "metadata": {},
   "source": [
    "this encoder will reduce images to a latent dimension space:"
   ]
  },
  {
   "cell_type": "code",
   "execution_count": null,
   "metadata": {},
   "outputs": [],
   "source": [
    "enc = Encoder(n_in=3, weights_file=None, head=False)"
   ]
  },
  {
   "cell_type": "code",
   "execution_count": null,
   "metadata": {},
   "outputs": [
    {
     "data": {
      "text/plain": [
       "Sequential(\n",
       "  (0): AdaptiveConcatPool2d(\n",
       "    (ap): AdaptiveAvgPool2d(output_size=1)\n",
       "    (mp): AdaptiveMaxPool2d(output_size=1)\n",
       "  )\n",
       "  (1): Flatten(full=False)\n",
       "  (2): BatchNorm1d(1024, eps=1e-05, momentum=0.1, affine=True, track_running_stats=True)\n",
       ")"
      ]
     },
     "execution_count": null,
     "metadata": {},
     "output_type": "execute_result"
    }
   ],
   "source": [
    "enc.head"
   ]
  },
  {
   "cell_type": "markdown",
   "metadata": {},
   "source": [
    "In this case, 1024"
   ]
  },
  {
   "cell_type": "code",
   "execution_count": null,
   "metadata": {},
   "outputs": [
    {
     "data": {
      "text/plain": [
       "torch.Size([8, 1024])"
      ]
     },
     "execution_count": null,
     "metadata": {},
     "output_type": "execute_result"
    }
   ],
   "source": [
    "encoded_var = enc(x)\n",
    "encoded_var.shape"
   ]
  },
  {
   "cell_type": "code",
   "execution_count": null,
   "metadata": {},
   "outputs": [],
   "source": [
    "test_eq(encoded_var.shape, [8,1024])"
   ]
  },
  {
   "cell_type": "markdown",
   "metadata": {},
   "source": [
    "## Simple Model\n",
    "> A very basic CNN model"
   ]
  },
  {
   "cell_type": "markdown",
   "metadata": {},
   "source": [
    "This network is just using an old resnet and expanding the sequence dimesion on the batch dim. It is not optimal."
   ]
  },
  {
   "cell_type": "code",
   "execution_count": null,
   "metadata": {},
   "outputs": [],
   "source": [
    "#export\n",
    "class SimpleModel(Module):\n",
    "    \"A simple CNN model\"\n",
    "    def __init__(self, arch=resnet34, weights_file=None, y_range=(-1,1), debug=False):\n",
    "        \"Create a simple arch based model\"\n",
    "        model = Encoder(arch, 3, weights_file, head=False, y_range=y_range)\n",
    "        nf = num_features_model(nn.Sequential(*model.body.children())) * 2\n",
    "        self.encoder = model\n",
    "        self.head = nn.Sequential(LinBnDrop(nf, nf),)\n",
    "        \n",
    "        self.debug = debug\n",
    "\n",
    "    def forward(self, x):\n",
    "        if self.debug:  print(f' input len:   {len(x), x[0].shape}')\n",
    "        x = torch.stack(x, dim=1)\n",
    "        if self.debug:  print(f' after stack:   {x.shape}')\n",
    "        batch_size, seq_length, c, h, w = x.shape\n",
    "        x = x.view(batch_size * seq_length, c, h, w)\n",
    "        x = self.encoder(x)\n",
    "        if self.debug:  print(f' encoded shape: {x.shape}')\n",
    "        x = self.head(x)\n",
    "        return x.view(batch_size, seq_length, -1).squeeze()"
   ]
  },
  {
   "cell_type": "markdown",
   "metadata": {},
   "source": [
    "A splitter function to train separetely the parameers from the encoder and the head, this is a needed argument for the `Learner` to be able to call `Learner.freeze()`."
   ]
  },
  {
   "cell_type": "code",
   "execution_count": null,
   "metadata": {},
   "outputs": [],
   "source": [
    "#export\n",
    "def simple_splitter(model):\n",
    "    return [params(model.encoder), params(model.head)]"
   ]
  },
  {
   "cell_type": "markdown",
   "metadata": {},
   "source": [
    "A sequence of 10 images:"
   ]
  },
  {
   "cell_type": "code",
   "execution_count": null,
   "metadata": {},
   "outputs": [],
   "source": [
    "#bs, seq_len, ch, w, h\n",
    "inp = [torch.rand(64, 3, 64, 64) for _ in range(10)]"
   ]
  },
  {
   "cell_type": "code",
   "execution_count": null,
   "metadata": {},
   "outputs": [
    {
     "name": "stdout",
     "output_type": "stream",
     "text": [
      " input len:   (10, torch.Size([64, 3, 64, 64]))\n",
      " after stack:   torch.Size([64, 10, 3, 64, 64])\n",
      " encoded shape: torch.Size([640, 1024])\n"
     ]
    }
   ],
   "source": [
    "sm = SimpleModel(debug=True)\n",
    "test_eq(sm(inp).shape, [64, 10, 1024])"
   ]
  },
  {
   "cell_type": "code",
   "execution_count": null,
   "metadata": {},
   "outputs": [
    {
     "name": "stdout",
     "output_type": "stream",
     "text": [
      " input len:   (10, torch.Size([64, 3, 64, 64]))\n",
      " after stack:   torch.Size([64, 10, 3, 64, 64])\n",
      " encoded shape: torch.Size([640, 512, 2, 2])\n"
     ]
    }
   ],
   "source": [
    "sm = SimpleModel(head=True, debug=True)\n",
    "test_eq(sm(inp).shape, [64, 10])"
   ]
  }
 ],
 "metadata": {
  "kernelspec": {
   "display_name": "Python 3",
   "language": "python",
   "name": "python3"
  }
 },
 "nbformat": 4,
 "nbformat_minor": 4
}
