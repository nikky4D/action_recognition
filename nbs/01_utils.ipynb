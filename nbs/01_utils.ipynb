{
 "cells": [
  {
   "cell_type": "code",
   "execution_count": 1,
   "metadata": {},
   "outputs": [],
   "source": [
    "# default_exp utils"
   ]
  },
  {
   "cell_type": "markdown",
   "metadata": {},
   "source": [
    "# Utils\n",
    ">Download database, etc..."
   ]
  },
  {
   "cell_type": "code",
   "execution_count": 3,
   "metadata": {},
   "outputs": [],
   "source": [
    "import av\n",
    "from pathlib import Path\n",
    "from fastai.data.transforms import get_files\n",
    "from fastai.torch_core import parallel\n",
    "from fastprogress.fastprogress import progress_bar"
   ]
  },
  {
   "cell_type": "markdown",
   "metadata": {},
   "source": [
    "## Download and extract the dataset"
   ]
  },
  {
   "cell_type": "markdown",
   "metadata": {},
   "source": [
    "You will have to get the dataset and the train/valid split from:\n",
    "- [Dataset](http://crcv.ucf.edu/data/UCF101/UCF101.rar)\n",
    "- [Splits](https://www.crcv.ucf.edu/data/UCF101/UCF101TrainTestSplits-RecognitionTask.zip)\n",
    "\n",
    "You can use the script `download_ucf101.sh` inside the data folder.\n",
    "```bash\n",
    "$ ./download_ucf101.sh\n",
    "```"
   ]
  },
  {
   "cell_type": "markdown",
   "metadata": {},
   "source": [
    "Once the data is downloaded, you will have to extract the frames using the `frame_gen` function"
   ]
  },
  {
   "cell_type": "code",
   "execution_count": 4,
   "metadata": {},
   "outputs": [],
   "source": [
    "PATH = Path.cwd().parent/'data/UCF-101'\n",
    "DEST = Path.cwd().parent/'data/UCF-101-frames'"
   ]
  },
  {
   "cell_type": "code",
   "execution_count": 5,
   "metadata": {},
   "outputs": [],
   "source": [
    "video = PATH.ls()[0].ls()[0]"
   ]
  },
  {
   "cell_type": "code",
   "execution_count": 6,
   "metadata": {},
   "outputs": [
    {
     "data": {
      "text/plain": [
       "Path('/home/tcapelle/SteadySun/action_recognition/data/UCF-101/Hammering/v_Hammering_g22_c05.avi')"
      ]
     },
     "execution_count": 6,
     "metadata": {},
     "output_type": "execute_result"
    }
   ],
   "source": [
    "video"
   ]
  },
  {
   "cell_type": "code",
   "execution_count": 7,
   "metadata": {},
   "outputs": [],
   "source": [
    "def frame_gen(path, dest_path=DEST):\n",
    "    video = av.open(str(path))\n",
    "    dest = dest_path/path.relative_to(path.parent.parent).with_name(path.name.split('.')[0])\n",
    "    if not dest.exists():\n",
    "        dest.mkdir(parents=True, exist_ok=True)\n",
    "    for i,frame in enumerate(video.decode(0)):\n",
    "        if not (dest/f\"{i}.jpg\").exists():\n",
    "            frame.to_image().save(dest/f\"{i}.jpg\")\n",
    "    return"
   ]
  },
  {
   "cell_type": "code",
   "execution_count": 8,
   "metadata": {},
   "outputs": [],
   "source": [
    "videos = get_files(PATH, extensions='.avi')"
   ]
  },
  {
   "cell_type": "code",
   "execution_count": 9,
   "metadata": {},
   "outputs": [
    {
     "data": {
      "text/plain": [
       "(#13320) [Path('/home/tcapelle/SteadySun/action_recognition/data/UCF-101/Hammering/v_Hammering_g22_c05.avi'),Path('/home/tcapelle/SteadySun/action_recognition/data/UCF-101/Hammering/v_Hammering_g21_c05.avi'),Path('/home/tcapelle/SteadySun/action_recognition/data/UCF-101/Hammering/v_Hammering_g03_c03.avi'),Path('/home/tcapelle/SteadySun/action_recognition/data/UCF-101/Hammering/v_Hammering_g18_c02.avi'),Path('/home/tcapelle/SteadySun/action_recognition/data/UCF-101/Hammering/v_Hammering_g24_c06.avi'),Path('/home/tcapelle/SteadySun/action_recognition/data/UCF-101/Hammering/v_Hammering_g13_c07.avi'),Path('/home/tcapelle/SteadySun/action_recognition/data/UCF-101/Hammering/v_Hammering_g12_c02.avi'),Path('/home/tcapelle/SteadySun/action_recognition/data/UCF-101/Hammering/v_Hammering_g13_c01.avi'),Path('/home/tcapelle/SteadySun/action_recognition/data/UCF-101/Hammering/v_Hammering_g19_c01.avi'),Path('/home/tcapelle/SteadySun/action_recognition/data/UCF-101/Hammering/v_Hammering_g24_c03.avi')...]"
      ]
     },
     "execution_count": 9,
     "metadata": {},
     "output_type": "execute_result"
    }
   ],
   "source": [
    "videos"
   ]
  },
  {
   "cell_type": "code",
   "execution_count": 10,
   "metadata": {},
   "outputs": [
    {
     "data": {
      "text/plain": [
       "True"
      ]
     },
     "execution_count": 10,
     "metadata": {},
     "output_type": "execute_result"
    }
   ],
   "source": [
    "(PATH/Path('PlayingDhol/v_PlayingDhol_g23_c06.avi')).exists()"
   ]
  },
  {
   "cell_type": "code",
   "execution_count": 11,
   "metadata": {},
   "outputs": [],
   "source": [
    "frame_gen(PATH/Path('PlayingDhol/v_PlayingDhol_g23_c06.avi'))"
   ]
  },
  {
   "cell_type": "code",
   "execution_count": 12,
   "metadata": {},
   "outputs": [
    {
     "data": {
      "text/html": [],
      "text/plain": [
       "<IPython.core.display.HTML object>"
      ]
     },
     "metadata": {},
     "output_type": "display_data"
    },
    {
     "data": {
      "text/plain": [
       "(#13320) [None,None,None,None,None,None,None,None,None,None...]"
      ]
     },
     "execution_count": 12,
     "metadata": {},
     "output_type": "execute_result"
    }
   ],
   "source": [
    "parallel(frame_gen, videos, n_workers=24)"
   ]
  },
  {
   "cell_type": "code",
   "execution_count": null,
   "metadata": {},
   "outputs": [],
   "source": []
  }
 ],
 "metadata": {
  "kernelspec": {
   "display_name": "Python 3",
   "language": "python",
   "name": "python3"
  },
  "language_info": {
   "codemirror_mode": {
    "name": "ipython",
    "version": 3
   },
   "file_extension": ".py",
   "mimetype": "text/x-python",
   "name": "python",
   "nbconvert_exporter": "python",
   "pygments_lexer": "ipython3",
   "version": "3.8.5"
  }
 },
 "nbformat": 4,
 "nbformat_minor": 4
}
